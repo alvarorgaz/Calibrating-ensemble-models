{
 "cells": [
  {
   "cell_type": "markdown",
   "metadata": {},
   "source": [
    "# Calibrating ensemble models with Logistic Regression"
   ]
  },
  {
   "cell_type": "markdown",
   "metadata": {},
   "source": [
    "### Logistic regression for calibrating binary classification models (or Platt scaling)"
   ]
  },
  {
   "cell_type": "markdown",
   "metadata": {},
   "source": [
    "Assuming that we know the predictions of an ensemble model trained to predict a binary variable Y={0,1}, we can train a *Logistic Regression* to predict the same initial binary variable Y={0,1} using the predictions of the ensemble model as the unique feature. Then, the predictions of the *Logistic Regression* will be the calibrated version of the ensemble model predictions.\n",
    "\n",
    "*Note:* The model is explained in the paper *Handmade_Logistic_Regression.pdf* from the repository *Coding-Machine-Learning-algorithms-from-scratch-in-R* ."
   ]
  },
  {
   "cell_type": "markdown",
   "metadata": {},
   "source": [
    "\\begin{equation} P(Y=1|Prediction) = sigmoid(z) = \\frac{1}{1+e^{-z}}=\\frac{1}{1+e^{-(w_0+w_1*Prediction)}} \\end{equation}"
   ]
  },
  {
   "cell_type": "markdown",
   "metadata": {},
   "source": [
    "### Import libraries"
   ]
  },
  {
   "cell_type": "code",
   "execution_count": 1,
   "metadata": {},
   "outputs": [],
   "source": [
    "import numpy as np\n",
    "import pandas as pd\n",
    "import matplotlib.pyplot as plt\n",
    "from sklearn.linear_model import LogisticRegression\n",
    "import warnings\n",
    "warnings.filterwarnings(\"ignore\")"
   ]
  },
  {
   "cell_type": "markdown",
   "metadata": {},
   "source": [
    "### Import the ensemble model predictions"
   ]
  },
  {
   "cell_type": "markdown",
   "metadata": {},
   "source": [
    "Import the *predictions* of the ensemble model and the *true label* (binary in this example) for each observation in a *validation* dataset, not used for training the model."
   ]
  },
  {
   "cell_type": "code",
   "execution_count": 2,
   "metadata": {},
   "outputs": [
    {
     "data": {
      "text/html": [
       "<div>\n",
       "<style scoped>\n",
       "    .dataframe tbody tr th:only-of-type {\n",
       "        vertical-align: middle;\n",
       "    }\n",
       "\n",
       "    .dataframe tbody tr th {\n",
       "        vertical-align: top;\n",
       "    }\n",
       "\n",
       "    .dataframe thead th {\n",
       "        text-align: right;\n",
       "    }\n",
       "</style>\n",
       "<table border=\"1\" class=\"dataframe\">\n",
       "  <thead>\n",
       "    <tr style=\"text-align: right;\">\n",
       "      <th></th>\n",
       "      <th>True_Label</th>\n",
       "      <th>Prediction</th>\n",
       "    </tr>\n",
       "  </thead>\n",
       "  <tbody>\n",
       "    <tr>\n",
       "      <th>0</th>\n",
       "      <td>0</td>\n",
       "      <td>0.004622</td>\n",
       "    </tr>\n",
       "    <tr>\n",
       "      <th>1</th>\n",
       "      <td>0</td>\n",
       "      <td>0.261871</td>\n",
       "    </tr>\n",
       "    <tr>\n",
       "      <th>2</th>\n",
       "      <td>1</td>\n",
       "      <td>0.025343</td>\n",
       "    </tr>\n",
       "    <tr>\n",
       "      <th>3</th>\n",
       "      <td>0</td>\n",
       "      <td>0.194241</td>\n",
       "    </tr>\n",
       "    <tr>\n",
       "      <th>4</th>\n",
       "      <td>0</td>\n",
       "      <td>0.007017</td>\n",
       "    </tr>\n",
       "  </tbody>\n",
       "</table>\n",
       "</div>"
      ],
      "text/plain": [
       "   True_Label  Prediction\n",
       "0           0    0.004622\n",
       "1           0    0.261871\n",
       "2           1    0.025343\n",
       "3           0    0.194241\n",
       "4           0    0.007017"
      ]
     },
     "execution_count": 2,
     "metadata": {},
     "output_type": "execute_result"
    }
   ],
   "source": [
    "data = pd.read_excel('Ensemble model predictions in validation dataset.xlsx')\n",
    "prediction = data[\"Prediction\"]\n",
    "true_label = data[\"True_Label\"]\n",
    "data.head()"
   ]
  },
  {
   "cell_type": "markdown",
   "metadata": {},
   "source": [
    "The prediction range of the ensemble model is [0,1] equivalent to the theoretical range of probability for the event Y=1. However, the model is not calibrated as we will see in the following plot because, for example, the bin with predicted value between [0.9-1] has not a 90-100% of positive true labels."
   ]
  },
  {
   "cell_type": "code",
   "execution_count": 3,
   "metadata": {},
   "outputs": [
    {
     "data": {
      "text/plain": [
       "(2.0520697034953628e-06, 0.9992258548736572)"
      ]
     },
     "execution_count": 3,
     "metadata": {},
     "output_type": "execute_result"
    }
   ],
   "source": [
    "min(prediction), max(prediction)"
   ]
  },
  {
   "cell_type": "markdown",
   "metadata": {},
   "source": [
    "### Calibrated predictions"
   ]
  },
  {
   "cell_type": "markdown",
   "metadata": {},
   "source": [
    "Train the *Logistic Regression* model with the predictions of the ensemble model and the true label (binary in this example) for each observation in a *validation* dataset."
   ]
  },
  {
   "cell_type": "code",
   "execution_count": 4,
   "metadata": {},
   "outputs": [
    {
     "data": {
      "text/plain": [
       "LogisticRegression(C=1.0, class_weight=None, dual=False, fit_intercept=True,\n",
       "          intercept_scaling=1, max_iter=100, multi_class='warn',\n",
       "          n_jobs=None, penalty='l2', random_state=None, solver='warn',\n",
       "          tol=0.0001, verbose=0, warm_start=False)"
      ]
     },
     "execution_count": 4,
     "metadata": {},
     "output_type": "execute_result"
    }
   ],
   "source": [
    "x_train = np.reshape(np.array(prediction), (-1,1))\n",
    "y_train = np.array(true_label)\n",
    "calibration_model = LogisticRegression()\n",
    "calibration_model.fit(x_train, y_train,)"
   ]
  },
  {
   "cell_type": "code",
   "execution_count": 5,
   "metadata": {},
   "outputs": [
    {
     "data": {
      "text/plain": [
       "(array([[3.00095022]]), array([-1.66413995]))"
      ]
     },
     "execution_count": 5,
     "metadata": {},
     "output_type": "execute_result"
    }
   ],
   "source": [
    "calibration_model.coef_, calibration_model.intercept_"
   ]
  },
  {
   "cell_type": "markdown",
   "metadata": {},
   "source": [
    "Now compute the calibrated predictions and examine the range of the new calibrated predictions."
   ]
  },
  {
   "cell_type": "code",
   "execution_count": 6,
   "metadata": {},
   "outputs": [
    {
     "data": {
      "text/plain": [
       "(0.15920786410297164, 0.7915818845585993)"
      ]
     },
     "execution_count": 6,
     "metadata": {},
     "output_type": "execute_result"
    }
   ],
   "source": [
    "calibrated_prediction = calibration_model.predict_proba(x_train)[:,1]\n",
    "min(calibrated_prediction), max(calibrated_prediction)"
   ]
  },
  {
   "cell_type": "markdown",
   "metadata": {},
   "source": [
    "### AUC\n",
    "\n",
    "Examining the AUC we can see how, obviously, it has not changed since the *Logistic Regression* is a linear model and cannot reorder the initial predictions of the ensemble (which is the main thing that the AUC metric evaluates)."
   ]
  },
  {
   "cell_type": "code",
   "execution_count": 7,
   "metadata": {},
   "outputs": [
    {
     "data": {
      "text/plain": [
       "(0.7319144435547351, 0.7319144435547351)"
      ]
     },
     "execution_count": 7,
     "metadata": {},
     "output_type": "execute_result"
    }
   ],
   "source": [
    "from sklearn.metrics import roc_auc_score\n",
    "roc_auc_score(true_label, prediction), roc_auc_score(true_label, calibrated_prediction) "
   ]
  },
  {
   "cell_type": "markdown",
   "metadata": {},
   "source": [
    "### Log Loss\n",
    "\n",
    "Examining the Log Loss metric we can see how it has been reduced drastically. This metric penalize the error between predicted probability for a label and the real value for a label (0 in case that the observation is negative and 1 if positive), and since the *Logistic Regression* calibrates the ensemble predictions the Log Loss is reduced."
   ]
  },
  {
   "cell_type": "code",
   "execution_count": 8,
   "metadata": {},
   "outputs": [
    {
     "data": {
      "text/plain": [
       "(3.4399126426896443, 1.712502092970489)"
      ]
     },
     "execution_count": 8,
     "metadata": {},
     "output_type": "execute_result"
    }
   ],
   "source": [
    "def LogLoss(true_label, prediction):\n",
    "    return(sum(true_label*np.log(prediction)+(1-true_label)*(1-np.log(prediction)))/prediction.shape[0])\n",
    "\n",
    "LogLoss(true_label, prediction), LogLoss(true_label, calibrated_prediction)"
   ]
  },
  {
   "cell_type": "markdown",
   "metadata": {},
   "source": [
    "### Bins"
   ]
  },
  {
   "cell_type": "markdown",
   "metadata": {},
   "source": [
    "For binning the predictions in groups, compute the bins as equally spaced predicted value limits over the range of the predictions."
   ]
  },
  {
   "cell_type": "code",
   "execution_count": 9,
   "metadata": {},
   "outputs": [],
   "source": [
    "bins = np.linspace(0, 1, 11)"
   ]
  },
  {
   "cell_type": "markdown",
   "metadata": {},
   "source": [
    "### % of Y=1 by bins of predictions"
   ]
  },
  {
   "cell_type": "code",
   "execution_count": 10,
   "metadata": {},
   "outputs": [
    {
     "data": {
      "text/plain": [
       "array([0.15599422, 0.28241335, 0.40831296, 0.39130435, 0.41004184,\n",
       "       0.51075269, 0.50857143, 0.57324841, 0.69135802, 0.72139303])"
      ]
     },
     "execution_count": 10,
     "metadata": {},
     "output_type": "execute_result"
    }
   ],
   "source": [
    "bins_prediction = np.array([])\n",
    "for i in range(0, bins.shape[0]-1):\n",
    "    indexes = (prediction>bins[i]) & (prediction<=bins[i+1])\n",
    "    bin_true_label_mean = np.mean(true_label[indexes])\n",
    "    bins_prediction = np.append(bins_prediction, bin_true_label_mean)\n",
    "    \n",
    "bins_prediction"
   ]
  },
  {
   "cell_type": "markdown",
   "metadata": {},
   "source": [
    "### % of Y=1 by bins of calibrated predictions"
   ]
  },
  {
   "cell_type": "code",
   "execution_count": 11,
   "metadata": {},
   "outputs": [
    {
     "data": {
      "text/plain": [
       "array([       nan, 0.15387123, 0.31760741, 0.38557214, 0.45578231,\n",
       "       0.52320675, 0.57939914, 0.71710526,        nan,        nan])"
      ]
     },
     "execution_count": 11,
     "metadata": {},
     "output_type": "execute_result"
    }
   ],
   "source": [
    "bins_calibrated_prediction = np.array([])\n",
    "for i in range(0, bins.shape[0]-1):\n",
    "    indexes = (calibrated_prediction>bins[i]) & (calibrated_prediction<=bins[i+1])\n",
    "    bin_true_label_mean = np.mean(true_label[indexes])\n",
    "    bins_calibrated_prediction = np.append(bins_calibrated_prediction, bin_true_label_mean)\n",
    "    \n",
    "bins_calibrated_prediction"
   ]
  },
  {
   "cell_type": "markdown",
   "metadata": {},
   "source": [
    "### Let's plot the reliability distributions"
   ]
  },
  {
   "cell_type": "code",
   "execution_count": 12,
   "metadata": {},
   "outputs": [],
   "source": [
    "from IPython.core.interactiveshell import InteractiveShell\n",
    "InteractiveShell.ast_node_interactivity = \"none\""
   ]
  },
  {
   "cell_type": "code",
   "execution_count": 13,
   "metadata": {},
   "outputs": [
    {
     "data": {
      "image/png": "[encoded data removed]",
      "text/plain": [
       "<Figure size 360x360 with 1 Axes>"
      ]
     },
     "metadata": {
      "needs_background": "light"
     },
     "output_type": "display_data"
    }
   ],
   "source": [
    "plt.figure(figsize=(5,5))\n",
    "plt.plot([0,1], [0,1], label=\"Perfect calibration\")\n",
    "plt.plot(bins[1:]-0.05, bins_prediction, label='P(Y=1|Prediction)')\n",
    "plt.plot(bins[1:]-0.05, bins_calibrated_prediction, label='P(Y=1|Calibrated Prediction)')\n",
    "plt.xticks(bins)\n",
    "plt.xlabel(\"Bins of Ensemble Model Predictions\")\n",
    "plt.ylabel(\"Distributions\")\n",
    "plt.legend(loc='center left', bbox_to_anchor=(1, 0.5))"
   ]
  }
 ],
 "metadata": {
  "kernelspec": {
   "display_name": "Python 3",
   "language": "python",
   "name": "python3"
  },
  "language_info": {
   "codemirror_mode": {
    "name": "ipython",
    "version": 3
   },
   "file_extension": ".py",
   "mimetype": "text/x-python",
   "name": "python",
   "nbconvert_exporter": "python",
   "pygments_lexer": "ipython3",
   "version": "3.6.8"
  }
 },
 "nbformat": 4,
 "nbformat_minor": 1
}
