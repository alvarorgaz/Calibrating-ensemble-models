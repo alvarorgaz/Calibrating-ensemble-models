{
 "cells": [
  {
   "cell_type": "markdown",
   "metadata": {},
   "source": [
    "# Calibrating ensemble models with Bayes (equal size binning)"
   ]
  },
  {
   "cell_type": "markdown",
   "metadata": {},
   "source": [
    "### Bayes theorem for calibrating binary classification models"
   ]
  },
  {
   "cell_type": "markdown",
   "metadata": {},
   "source": [
    "Assuming that we know the predictions of an ensemble model trained to predict a binary variable *True_Label=\\{0,1}* and the prior probability *P(1)* which is the probability for the event *True_Label=1*, we can use the *Bayesian* theorem to compute the calibrated prediction or posterior probability of the model."
   ]
  },
  {
   "cell_type": "markdown",
   "metadata": {},
   "source": [
    "\\begin{equation} P(1|Prediction) = \\frac{P(Prediction|1)*P(1)}{P(Prediction|1)*P(1)+P(Prediction|0)*P(0)} \\end{equation}"
   ]
  },
  {
   "cell_type": "markdown",
   "metadata": {},
   "source": [
    "### Import libraries"
   ]
  },
  {
   "cell_type": "markdown",
   "metadata": {},
   "source": [
    "Import libraries and activate multiple outputs by notebook cell."
   ]
  },
  {
   "cell_type": "code",
   "execution_count": 1,
   "metadata": {},
   "outputs": [],
   "source": [
    "import numpy as np\n",
    "import pandas as pd\n",
    "import matplotlib.pyplot as plt\n",
    "from IPython.core.interactiveshell import InteractiveShell\n",
    "InteractiveShell.ast_node_interactivity = \"all\""
   ]
  },
  {
   "cell_type": "markdown",
   "metadata": {},
   "source": [
    "### Import the ensemble model predictions"
   ]
  },
  {
   "cell_type": "markdown",
   "metadata": {},
   "source": [
    "Import the *predictions* of the ensemble model and the *true label* (binary in this example) for each observation in a *validation* dataset, not used for training the model."
   ]
  },
  {
   "cell_type": "code",
   "execution_count": 2,
   "metadata": {},
   "outputs": [
    {
     "data": {
      "text/html": [
       "<div>\n",
       "<style scoped>\n",
       "    .dataframe tbody tr th:only-of-type {\n",
       "        vertical-align: middle;\n",
       "    }\n",
       "\n",
       "    .dataframe tbody tr th {\n",
       "        vertical-align: top;\n",
       "    }\n",
       "\n",
       "    .dataframe thead th {\n",
       "        text-align: right;\n",
       "    }\n",
       "</style>\n",
       "<table border=\"1\" class=\"dataframe\">\n",
       "  <thead>\n",
       "    <tr style=\"text-align: right;\">\n",
       "      <th></th>\n",
       "      <th>True_Label</th>\n",
       "      <th>Prediction</th>\n",
       "    </tr>\n",
       "  </thead>\n",
       "  <tbody>\n",
       "    <tr>\n",
       "      <th>0</th>\n",
       "      <td>0</td>\n",
       "      <td>0.064223</td>\n",
       "    </tr>\n",
       "    <tr>\n",
       "      <th>1</th>\n",
       "      <td>0</td>\n",
       "      <td>0.413014</td>\n",
       "    </tr>\n",
       "    <tr>\n",
       "      <th>2</th>\n",
       "      <td>1</td>\n",
       "      <td>0.180336</td>\n",
       "    </tr>\n",
       "    <tr>\n",
       "      <th>3</th>\n",
       "      <td>0</td>\n",
       "      <td>0.223579</td>\n",
       "    </tr>\n",
       "    <tr>\n",
       "      <th>4</th>\n",
       "      <td>0</td>\n",
       "      <td>0.131419</td>\n",
       "    </tr>\n",
       "  </tbody>\n",
       "</table>\n",
       "</div>"
      ],
      "text/plain": [
       "   True_Label  Prediction\n",
       "0           0    0.064223\n",
       "1           0    0.413014\n",
       "2           1    0.180336\n",
       "3           0    0.223579\n",
       "4           0    0.131419"
      ]
     },
     "execution_count": 2,
     "metadata": {},
     "output_type": "execute_result"
    },
    {
     "data": {
      "text/plain": [
       "(8792, 2)"
      ]
     },
     "execution_count": 2,
     "metadata": {},
     "output_type": "execute_result"
    }
   ],
   "source": [
    "data = pd.read_excel('Ensemble model predictions in validation dataset.xlsx')\n",
    "prediction = data[\"Prediction\"]\n",
    "true_label = data[\"True_Label\"]\n",
    "data.head()\n",
    "data.shape"
   ]
  },
  {
   "cell_type": "markdown",
   "metadata": {},
   "source": [
    "The predictions are not calibrated since the prediction range of the ensemble model is not [0,1] equivalent to theoretical the range of probability for the event *True_Label=1*."
   ]
  },
  {
   "cell_type": "code",
   "execution_count": 3,
   "metadata": {},
   "outputs": [
    {
     "data": {
      "text/plain": [
       "(0.0194706935435534, 0.758970975875854)"
      ]
     },
     "execution_count": 3,
     "metadata": {},
     "output_type": "execute_result"
    }
   ],
   "source": [
    "min(prediction), max(prediction)"
   ]
  },
  {
   "cell_type": "markdown",
   "metadata": {},
   "source": [
    "### Prior probabilities"
   ]
  },
  {
   "cell_type": "markdown",
   "metadata": {},
   "source": [
    "Compute the prior probability for the event *True_Label=1* equivalent to *P(1)* and *P(0)* in the initial formula. You can see that the *validation* dataset is unbalanced, which means that the % of *True_Labels=1* is different from 50%."
   ]
  },
  {
   "cell_type": "code",
   "execution_count": 4,
   "metadata": {},
   "outputs": [
    {
     "data": {
      "text/plain": [
       "(0.2373748862602366, 0.7626251137397634)"
      ]
     },
     "execution_count": 4,
     "metadata": {},
     "output_type": "execute_result"
    }
   ],
   "source": [
    "p1 = np.mean(true_label)\n",
    "p0 = 1-p1\n",
    "p1, p0"
   ]
  },
  {
   "cell_type": "markdown",
   "metadata": {},
   "source": [
    "### Conditional distributions by binning predictions"
   ]
  },
  {
   "cell_type": "markdown",
   "metadata": {},
   "source": [
    "For binning the prediction in groups, compute the *decils* of the predictions vector (sorted prediction values that create 10 groups with 10% of predictions in each one). You can see that the percentile 0% and 100% correspond to the minimum and maximum predicted values."
   ]
  },
  {
   "cell_type": "code",
   "execution_count": 5,
   "metadata": {},
   "outputs": [
    {
     "data": {
      "text/plain": [
       "array([0.01947069, 0.08151739, 0.11682924, 0.15258642, 0.19085579,\n",
       "       0.23184413, 0.28074329, 0.33209348, 0.39333202, 0.47083429,\n",
       "       0.75897098])"
      ]
     },
     "execution_count": 5,
     "metadata": {},
     "output_type": "execute_result"
    }
   ],
   "source": [
    "bins = np.percentile(prediction,np.arange(0,101,10))\n",
    "bins"
   ]
  },
  {
   "cell_type": "markdown",
   "metadata": {},
   "source": [
    "Compute the frequeny distribution of predictions with *True_Label=1* by bins equivalent to *P(Prediction|1)* in the initial formula."
   ]
  },
  {
   "cell_type": "code",
   "execution_count": 6,
   "metadata": {},
   "outputs": [
    {
     "data": {
      "text/plain": [
       "array([0.01341639, 0.03402012, 0.04072832, 0.05366555, 0.08001917,\n",
       "       0.10158122, 0.11931001, 0.15716339, 0.17968376, 0.22041207])"
      ]
     },
     "execution_count": 6,
     "metadata": {},
     "output_type": "execute_result"
    }
   ],
   "source": [
    "binned_prediction_given1 = np.histogram(prediction[true_label==1],bins)[0]/sum(true_label==1)\n",
    "binned_prediction_given1"
   ]
  },
  {
   "cell_type": "markdown",
   "metadata": {},
   "source": [
    "Compute the frequency distribution of predictions with *True_Label=0* by bins equivalent to *P(Prediction|0)* in the initial formula."
   ]
  },
  {
   "cell_type": "code",
   "execution_count": 7,
   "metadata": {},
   "outputs": [
    {
     "data": {
      "text/plain": [
       "array([0.12706935, 0.12050708, 0.11841909, 0.11439224, 0.10618941,\n",
       "       0.099478  , 0.09395973, 0.08217748, 0.07516779, 0.06263982])"
      ]
     },
     "execution_count": 7,
     "metadata": {},
     "output_type": "execute_result"
    }
   ],
   "source": [
    "binned_prediction_given0 = np.histogram(prediction[true_label==0],bins)[0]/sum(true_label==0)\n",
    "binned_prediction_given0"
   ]
  },
  {
   "cell_type": "markdown",
   "metadata": {},
   "source": [
    "Check that both conditiona distributions sum 1."
   ]
  },
  {
   "cell_type": "code",
   "execution_count": 8,
   "metadata": {},
   "outputs": [
    {
     "data": {
      "text/plain": [
       "(1.0, 1.0)"
      ]
     },
     "execution_count": 8,
     "metadata": {},
     "output_type": "execute_result"
    }
   ],
   "source": [
    "sum(binned_prediction_given1), sum(binned_prediction_given0)"
   ]
  },
  {
   "cell_type": "markdown",
   "metadata": {},
   "source": [
    "### Calibrated predictions"
   ]
  },
  {
   "cell_type": "markdown",
   "metadata": {},
   "source": [
    "Compute the calibrated prediction or posterior probability by bins."
   ]
  },
  {
   "cell_type": "code",
   "execution_count": 9,
   "metadata": {},
   "outputs": [
    {
     "data": {
      "text/plain": [
       "array([0.03181818, 0.08077361, 0.0967008 , 0.12741752, 0.18998862,\n",
       "       0.24118316, 0.28327645, 0.37315131, 0.42662116, 0.52272727])"
      ]
     },
     "execution_count": 9,
     "metadata": {},
     "output_type": "execute_result"
    }
   ],
   "source": [
    "calibrated_binned_prediction = (p1*binned_prediction_given1)/(p1*binned_prediction_given1+p0*binned_prediction_given0)\n",
    "calibrated_binned_prediction"
   ]
  },
  {
   "cell_type": "code",
   "execution_count": 16,
   "metadata": {},
   "outputs": [
    {
     "data": {
      "text/plain": [
       "Prediction\n",
       "(0.0195, 0.0815]    0.031854\n",
       "(0.0815, 0.117]     0.080774\n",
       "(0.117, 0.153]      0.096701\n",
       "(0.153, 0.191]      0.127418\n",
       "(0.191, 0.232]      0.189989\n",
       "(0.232, 0.281]      0.241183\n",
       "(0.281, 0.332]      0.283276\n",
       "(0.332, 0.393]      0.373151\n",
       "(0.393, 0.471]      0.426621\n",
       "(0.471, 0.759]      0.522727\n",
       "Name: True_Label, dtype: float64"
      ]
     },
     "execution_count": 16,
     "metadata": {},
     "output_type": "execute_result"
    }
   ],
   "source": [
    "true_label.groupby(pd.cut(prediction,bins)).apply(np.mean)"
   ]
  },
  {
   "cell_type": "markdown",
   "metadata": {},
   "source": [
    "### Size of every bin"
   ]
  },
  {
   "cell_type": "code",
   "execution_count": 10,
   "metadata": {},
   "outputs": [
    {
     "data": {
      "text/plain": [
       "Prediction\n",
       "(0.0195, 0.0815]    879\n",
       "(0.0815, 0.117]     879\n",
       "(0.117, 0.153]      879\n",
       "(0.153, 0.191]      879\n",
       "(0.191, 0.232]      879\n",
       "(0.232, 0.281]      879\n",
       "(0.281, 0.332]      879\n",
       "(0.332, 0.393]      879\n",
       "(0.393, 0.471]      879\n",
       "(0.471, 0.759]      880\n",
       "Name: Prediction, dtype: int64"
      ]
     },
     "execution_count": 10,
     "metadata": {},
     "output_type": "execute_result"
    }
   ],
   "source": [
    "prediction.groupby(pd.cut(prediction,bins)).size()"
   ]
  },
  {
   "cell_type": "markdown",
   "metadata": {},
   "source": [
    "### Let's plot the distributions"
   ]
  },
  {
   "cell_type": "code",
   "execution_count": 11,
   "metadata": {},
   "outputs": [],
   "source": [
    "InteractiveShell.ast_node_interactivity = \"none\""
   ]
  },
  {
   "cell_type": "code",
   "execution_count": 12,
   "metadata": {},
   "outputs": [
    {
     "data": {
      "image/png": "[encoded data removed]",
      "text/plain": [
       "<Figure size 720x720 with 1 Axes>"
      ]
     },
     "metadata": {
      "needs_background": "light"
     },
     "output_type": "display_data"
    }
   ],
   "source": [
    "plt.figure(figsize=(10,10))\n",
    "plt.step(bins[1:],np.repeat(p1,bins.shape[0]-1),label='P(1)',linestyle=\":\")\n",
    "plt.step(bins[1:],np.repeat(p0,bins.shape[0]-1),label='P(0)',linestyle=\":\")\n",
    "plt.plot([min(bins[1:]),max(bins[1:])],[min(bins[1:]),max(bins[1:])],label=\"Perfect calibration\")\n",
    "plt.step(bins[1:],calibrated_binned_prediction,label='P(1|Prediction) or Model calibration')\n",
    "plt.step(bins[1:],binned_prediction_given0,label='P(Prediction|0)')\n",
    "plt.step(bins[1:],binned_prediction_given1,label='P(Prediction|1)')\n",
    "plt.xticks(bins[1:],rotation='vertical')\n",
    "plt.xlabel(\"Bins of Ensemble Model Predictions\")\n",
    "plt.ylabel(\"Distributions\")\n",
    "plt.title('Calibrating ensemble models with Bayes (equal size binning)')\n",
    "plt.legend(loc='upper left')"
   ]
  }
 ],
 "metadata": {
  "kernelspec": {
   "display_name": "Python 3",
   "language": "python",
   "name": "python3"
  },
  "language_info": {
   "codemirror_mode": {
    "name": "ipython",
    "version": 3
   },
   "file_extension": ".py",
   "mimetype": "text/x-python",
   "name": "python",
   "nbconvert_exporter": "python",
   "pygments_lexer": "ipython3",
   "version": "3.7.1"
  }
 },
 "nbformat": 4,
 "nbformat_minor": 1
}
