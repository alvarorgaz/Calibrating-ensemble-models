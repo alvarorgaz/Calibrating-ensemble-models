{
 "cells": [
  {
   "cell_type": "markdown",
   "metadata": {},
   "source": [
    "# Calibrating ensemble models with Bayesian binning"
   ]
  },
  {
   "cell_type": "markdown",
   "metadata": {},
   "source": [
    "### Bayes theorem for calibrating binary classification models"
   ]
  },
  {
   "cell_type": "markdown",
   "metadata": {},
   "source": [
    "Assuming that we know the predictions of an ensemble model trained to predict a binary variable *True_Label=\\{0,1}* and the prior probability *P(1)* which is the probability for the event *True_Label=1*, we can use the *Bayesian* theorem to compute the calibrated prediction or posterior probability of the model."
   ]
  },
  {
   "cell_type": "markdown",
   "metadata": {},
   "source": [
    "\\begin{equation} P(1|Prediction) = \\frac{P(Prediction|1)*P(1)}{P(Prediction|1)*P(1)+P(Prediction|0)*P(0)} \\end{equation}"
   ]
  },
  {
   "cell_type": "markdown",
   "metadata": {},
   "source": [
    "*Note:* More information about *Bayes* theorem explained in the paper *Handmade_Naive_Bayes.pdf* from the repository *Coding-Machine-Learning-algorithms-from-scratch-in-R .*"
   ]
  },
  {
   "cell_type": "markdown",
   "metadata": {},
   "source": [
    "### Import libraries"
   ]
  },
  {
   "cell_type": "code",
   "execution_count": 1,
   "metadata": {},
   "outputs": [],
   "source": [
    "import numpy as np\n",
    "import pandas as pd\n",
    "import matplotlib.pyplot as plt"
   ]
  },
  {
   "cell_type": "markdown",
   "metadata": {},
   "source": [
    "### Import the ensemble model predictions"
   ]
  },
  {
   "cell_type": "markdown",
   "metadata": {},
   "source": [
    "Import the *predictions* of the ensemble model and the *true label* (binary in this example) for each observation in a *validation* dataset, not used for training the model."
   ]
  },
  {
   "cell_type": "code",
   "execution_count": 2,
   "metadata": {},
   "outputs": [
    {
     "data": {
      "text/html": [
       "<div>\n",
       "<style scoped>\n",
       "    .dataframe tbody tr th:only-of-type {\n",
       "        vertical-align: middle;\n",
       "    }\n",
       "\n",
       "    .dataframe tbody tr th {\n",
       "        vertical-align: top;\n",
       "    }\n",
       "\n",
       "    .dataframe thead th {\n",
       "        text-align: right;\n",
       "    }\n",
       "</style>\n",
       "<table border=\"1\" class=\"dataframe\">\n",
       "  <thead>\n",
       "    <tr style=\"text-align: right;\">\n",
       "      <th></th>\n",
       "      <th>True_Label</th>\n",
       "      <th>Prediction</th>\n",
       "    </tr>\n",
       "  </thead>\n",
       "  <tbody>\n",
       "    <tr>\n",
       "      <th>0</th>\n",
       "      <td>0</td>\n",
       "      <td>0.004622</td>\n",
       "    </tr>\n",
       "    <tr>\n",
       "      <th>1</th>\n",
       "      <td>0</td>\n",
       "      <td>0.261871</td>\n",
       "    </tr>\n",
       "    <tr>\n",
       "      <th>2</th>\n",
       "      <td>1</td>\n",
       "      <td>0.025343</td>\n",
       "    </tr>\n",
       "    <tr>\n",
       "      <th>3</th>\n",
       "      <td>0</td>\n",
       "      <td>0.194241</td>\n",
       "    </tr>\n",
       "    <tr>\n",
       "      <th>4</th>\n",
       "      <td>0</td>\n",
       "      <td>0.007017</td>\n",
       "    </tr>\n",
       "  </tbody>\n",
       "</table>\n",
       "</div>"
      ],
      "text/plain": [
       "   True_Label  Prediction\n",
       "0           0    0.004622\n",
       "1           0    0.261871\n",
       "2           1    0.025343\n",
       "3           0    0.194241\n",
       "4           0    0.007017"
      ]
     },
     "execution_count": 2,
     "metadata": {},
     "output_type": "execute_result"
    }
   ],
   "source": [
    "data = pd.read_excel('Ensemble model predictions in validation dataset.xlsx')\n",
    "prediction = data[\"Prediction\"]\n",
    "true_label = data[\"True_Label\"]\n",
    "data.head()"
   ]
  },
  {
   "cell_type": "markdown",
   "metadata": {},
   "source": [
    "The prediction range of the ensemble model is [0,1] equivalent to theoretical the range of probability for the event *True_Label=1*. Although, the model is not calibrated as we will see in the following plot because, for example, the bin with highest predicted values has not a 100% of positive *True_Label*. "
   ]
  },
  {
   "cell_type": "code",
   "execution_count": 3,
   "metadata": {},
   "outputs": [
    {
     "data": {
      "text/plain": [
       "(2.0520697034953628e-06, 0.9992258548736572)"
      ]
     },
     "execution_count": 3,
     "metadata": {},
     "output_type": "execute_result"
    }
   ],
   "source": [
    "min(prediction),max(prediction)"
   ]
  },
  {
   "cell_type": "markdown",
   "metadata": {},
   "source": [
    "### Prior probabilities"
   ]
  },
  {
   "cell_type": "markdown",
   "metadata": {},
   "source": [
    "Compute the prior probability for the event *True_Label=1* equivalent to *P(1)* and *P(0)* in the initial formula. You can see that the *validation* dataset is unbalanced, which means that the % of *True_Labels=1* is different from 50%."
   ]
  },
  {
   "cell_type": "code",
   "execution_count": 4,
   "metadata": {},
   "outputs": [
    {
     "data": {
      "text/plain": [
       "(0.2373748862602366, 0.7626251137397634)"
      ]
     },
     "execution_count": 4,
     "metadata": {},
     "output_type": "execute_result"
    }
   ],
   "source": [
    "p1 = np.mean(true_label)\n",
    "p0 = 1-p1\n",
    "p1, p0"
   ]
  },
  {
   "cell_type": "markdown",
   "metadata": {},
   "source": [
    "### Bins"
   ]
  },
  {
   "cell_type": "markdown",
   "metadata": {},
   "source": [
    "For binning the prediction in groups, compute the bins as evenly spaced samples calculated over the range of the predictions. You can see that the first and sample correspond to the minimum and maximum predicted values."
   ]
  },
  {
   "cell_type": "code",
   "execution_count": 5,
   "metadata": {},
   "outputs": [
    {
     "data": {
      "text/plain": [
       "array([0. , 0.1, 0.2, 0.3, 0.4, 0.5, 0.6, 0.7, 0.8, 0.9, 1. ])"
      ]
     },
     "execution_count": 5,
     "metadata": {},
     "output_type": "execute_result"
    }
   ],
   "source": [
    "bins = np.linspace(0,1,11)\n",
    "bins"
   ]
  },
  {
   "cell_type": "markdown",
   "metadata": {},
   "source": [
    "### Conditional distributions by binning predictions"
   ]
  },
  {
   "cell_type": "markdown",
   "metadata": {},
   "source": [
    "Compute the frequeny distribution of predictions with *True_Label=1* by bins equivalent to *P(Prediction|1)* in the initial formula."
   ]
  },
  {
   "cell_type": "code",
   "execution_count": 6,
   "metadata": {},
   "outputs": [
    {
     "data": {
      "text/plain": [
       "array([0.4657403 , 0.10541447, 0.08001917, 0.04743651, 0.04695736,\n",
       "       0.04551989, 0.04264494, 0.0431241 , 0.05366555, 0.06947772])"
      ]
     },
     "execution_count": 6,
     "metadata": {},
     "output_type": "execute_result"
    }
   ],
   "source": [
    "binned_prediction_given1 = np.histogram(prediction[true_label==1],bins)[0]/sum(true_label==1)\n",
    "binned_prediction_given1"
   ]
  },
  {
   "cell_type": "markdown",
   "metadata": {},
   "source": [
    "Compute the frequency distribution of predictions with *True_Label=0* by bins equivalent to *P(Prediction|0)* in the initial formula."
   ]
  },
  {
   "cell_type": "code",
   "execution_count": 7,
   "metadata": {},
   "outputs": [
    {
     "data": {
      "text/plain": [
       "array([0.78434004, 0.08337062, 0.03609247, 0.02296793, 0.02102908,\n",
       "       0.01357196, 0.01282625, 0.00999254, 0.00745712, 0.00835198])"
      ]
     },
     "execution_count": 7,
     "metadata": {},
     "output_type": "execute_result"
    }
   ],
   "source": [
    "binned_prediction_given0 = np.histogram(prediction[true_label==0],bins)[0]/sum(true_label==0)\n",
    "binned_prediction_given0"
   ]
  },
  {
   "cell_type": "markdown",
   "metadata": {},
   "source": [
    "Check that both conditiona distributions sum 1."
   ]
  },
  {
   "cell_type": "code",
   "execution_count": 8,
   "metadata": {},
   "outputs": [
    {
     "data": {
      "text/plain": [
       "(0.9999999999999999, 1.0)"
      ]
     },
     "execution_count": 8,
     "metadata": {},
     "output_type": "execute_result"
    }
   ],
   "source": [
    "sum(binned_prediction_given1), sum(binned_prediction_given0)"
   ]
  },
  {
   "cell_type": "markdown",
   "metadata": {},
   "source": [
    "### Calibrated predictions"
   ]
  },
  {
   "cell_type": "markdown",
   "metadata": {},
   "source": [
    "Compute the calibrated prediction or posterior probability by bins."
   ]
  },
  {
   "cell_type": "code",
   "execution_count": 9,
   "metadata": {},
   "outputs": [
    {
     "data": {
      "text/plain": [
       "array([0.15599422, 0.28241335, 0.40831296, 0.39130435, 0.41004184,\n",
       "       0.51075269, 0.50857143, 0.57324841, 0.69135802, 0.72139303])"
      ]
     },
     "execution_count": 9,
     "metadata": {},
     "output_type": "execute_result"
    }
   ],
   "source": [
    "calibrated_binned_prediction = (p1*binned_prediction_given1)/(p1*binned_prediction_given1+p0*binned_prediction_given0)\n",
    "calibrated_binned_prediction"
   ]
  },
  {
   "cell_type": "markdown",
   "metadata": {},
   "source": [
    "### Let's plot the distributions"
   ]
  },
  {
   "cell_type": "code",
   "execution_count": 10,
   "metadata": {},
   "outputs": [],
   "source": [
    "from IPython.core.interactiveshell import InteractiveShell\n",
    "InteractiveShell.ast_node_interactivity = \"none\""
   ]
  },
  {
   "cell_type": "code",
   "execution_count": 11,
   "metadata": {},
   "outputs": [
    {
     "data": {
      "image/png": "[encoded data removed]",
      "text/plain": [
       "<Figure size 540x540 with 1 Axes>"
      ]
     },
     "metadata": {
      "needs_background": "light"
     },
     "output_type": "display_data"
    }
   ],
   "source": [
    "plt.figure(figsize=(7.5,7.5))\n",
    "plt.plot(bins[1:]-0.05,np.repeat(p1,bins.shape[0]-1),label='P(1)',linestyle=\":\")\n",
    "plt.plot(bins[1:]-0.05,np.repeat(p0,bins.shape[0]-1),label='P(0)',linestyle=\":\")\n",
    "plt.plot([0,1],[0,1],label=\"Perfect calibration\")\n",
    "plt.plot(bins[1:]-0.05,calibrated_binned_prediction,label='P(1|Prediction) or Model calibration')\n",
    "plt.plot(bins[1:]-0.05,binned_prediction_given0,label='P(Prediction|0)')\n",
    "plt.plot(bins[1:]-0.05,binned_prediction_given1,label='P(Prediction|1)')\n",
    "plt.xticks(bins)\n",
    "plt.xlabel(\"Bins of Ensemble Model Predictions\")\n",
    "plt.ylabel(\"Distributions\")\n",
    "plt.title('Calibrating ensemble models with Bayes (equal width binning)')\n",
    "plt.legend(loc='upper left')"
   ]
  }
 ],
 "metadata": {
  "kernelspec": {
   "display_name": "Python 3",
   "language": "python",
   "name": "python3"
  },
  "language_info": {
   "codemirror_mode": {
    "name": "ipython",
    "version": 3
   },
   "file_extension": ".py",
   "mimetype": "text/x-python",
   "name": "python",
   "nbconvert_exporter": "python",
   "pygments_lexer": "ipython3",
   "version": "3.7.1"
  }
 },
 "nbformat": 4,
 "nbformat_minor": 1
}
